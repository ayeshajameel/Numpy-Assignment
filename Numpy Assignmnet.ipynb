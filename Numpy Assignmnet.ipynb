{
 "cells": [
  {
   "cell_type": "code",
   "execution_count": 1,
   "metadata": {},
   "outputs": [
    {
     "data": {
      "text/plain": [
       "'1.19.2'"
      ]
     },
     "execution_count": 1,
     "metadata": {},
     "output_type": "execute_result"
    }
   ],
   "source": [
    "import numpy as np\n",
    "np.__version__"
   ]
  },
  {
   "cell_type": "code",
   "execution_count": 3,
   "metadata": {},
   "outputs": [
    {
     "name": "stdout",
     "output_type": "stream",
     "text": [
      "[0. 0. 0. 0. 0. 0. 0. 0. 0. 0.]\n"
     ]
    }
   ],
   "source": [
    "a = np.zeros(10)\n",
    "print(a)"
   ]
  },
  {
   "cell_type": "code",
   "execution_count": 4,
   "metadata": {},
   "outputs": [
    {
     "data": {
      "text/plain": [
       "array([1., 2., 3., 4., 5.])"
      ]
     },
     "execution_count": 4,
     "metadata": {},
     "output_type": "execute_result"
    }
   ],
   "source": [
    "b= np.linspace(1,5,5)\n",
    "print(b)\n"
   ]
  },
  {
   "cell_type": "code",
   "execution_count": 5,
   "metadata": {},
   "outputs": [
    {
     "name": "stdout",
     "output_type": "stream",
     "text": [
      "[[1. 1. 1. 1.]\n",
      " [1. 1. 1. 1.]]\n"
     ]
    }
   ],
   "source": [
    "c= np.ones((2, 4))\n",
    "print(c)"
   ]
  },
  {
   "cell_type": "code",
   "execution_count": 6,
   "metadata": {},
   "outputs": [
    {
     "name": "stdout",
     "output_type": "stream",
     "text": [
      "[[1. 0. 0. 0. 0. 0. 0.]\n",
      " [0. 1. 0. 0. 0. 0. 0.]\n",
      " [0. 0. 1. 0. 0. 0. 0.]\n",
      " [0. 0. 0. 1. 0. 0. 0.]\n",
      " [0. 0. 0. 0. 1. 0. 0.]\n",
      " [0. 0. 0. 0. 0. 1. 0.]\n",
      " [0. 0. 0. 0. 0. 0. 1.]]\n"
     ]
    }
   ],
   "source": [
    "d = np.eye(7)\n",
    "print(d)"
   ]
  },
  {
   "cell_type": "code",
   "execution_count": 7,
   "metadata": {},
   "outputs": [
    {
     "name": "stdout",
     "output_type": "stream",
     "text": [
      "[[1 0 0 0]\n",
      " [0 2 0 0]\n",
      " [0 0 3 0]\n",
      " [0 0 0 4]]\n"
     ]
    }
   ],
   "source": [
    "e = np.diag([1,2,3,4])\n",
    "print(e)"
   ]
  },
  {
   "cell_type": "code",
   "execution_count": 8,
   "metadata": {},
   "outputs": [
    {
     "name": "stdout",
     "output_type": "stream",
     "text": [
      "[0.13376711 0.03021976 0.58045527 0.90040795]\n"
     ]
    }
   ],
   "source": [
    "f = np.random.rand(4)\n",
    "print(f)"
   ]
  },
  {
   "cell_type": "code",
   "execution_count": 9,
   "metadata": {},
   "outputs": [
    {
     "name": "stdout",
     "output_type": "stream",
     "text": [
      "[1 2 3 4 5]\n"
     ]
    }
   ],
   "source": [
    "g = np.array([1,2,3,4,5])\n",
    "print(g)"
   ]
  },
  {
   "cell_type": "code",
   "execution_count": 11,
   "metadata": {},
   "outputs": [
    {
     "name": "stdout",
     "output_type": "stream",
     "text": [
      "{'Ayesha'}\n",
      "<class 'numpy.ndarray'>\n"
     ]
    }
   ],
   "source": [
    "h= np.array({\"Ayesha\"})\n",
    "print(h)\n",
    "print(type(h))\n"
   ]
  },
  {
   "cell_type": "code",
   "execution_count": 12,
   "metadata": {},
   "outputs": [
    {
     "data": {
      "text/plain": [
       "array([[1, 2, 3, 4, 5, 6],\n",
       "       [1, 2, 3, 4, 5, 6]])"
      ]
     },
     "execution_count": 12,
     "metadata": {},
     "output_type": "execute_result"
    }
   ],
   "source": [
    "list= [1,2,3,4,5,6],[1,2,3,4,5,6]\n",
    "i=np.array((list))\n",
    "i"
   ]
  },
  {
   "cell_type": "code",
   "execution_count": 13,
   "metadata": {},
   "outputs": [
    {
     "data": {
      "text/plain": [
       "array([[ 0,  1,  2,  3,  4],\n",
       "       [ 5,  6,  7,  8,  9],\n",
       "       [10, 11, 12, 13, 14]])"
      ]
     },
     "execution_count": 13,
     "metadata": {},
     "output_type": "execute_result"
    }
   ],
   "source": [
    "j = np.arange(15).reshape(3, 5)\n",
    "j"
   ]
  },
  {
   "cell_type": "code",
   "execution_count": 14,
   "metadata": {},
   "outputs": [
    {
     "data": {
      "text/plain": [
       "array([[0., 0., 0., 0., 0.],\n",
       "       [0., 0., 0., 0., 0.]])"
      ]
     },
     "execution_count": 14,
     "metadata": {},
     "output_type": "execute_result"
    }
   ],
   "source": [
    "np.empty((2, 5))\n"
   ]
  },
  {
   "cell_type": "code",
   "execution_count": 15,
   "metadata": {},
   "outputs": [
    {
     "data": {
      "text/plain": [
       "array([0.  , 0.25, 0.5 , 0.75, 1.  , 1.25, 1.5 , 1.75, 2.  ])"
      ]
     },
     "execution_count": 15,
     "metadata": {},
     "output_type": "execute_result"
    }
   ],
   "source": [
    "from numpy import pi\n",
    "\n",
    "np.linspace(0, 2, 9)"
   ]
  },
  {
   "cell_type": "code",
   "execution_count": 16,
   "metadata": {},
   "outputs": [
    {
     "data": {
      "text/plain": [
       "array([0.        , 0.06346652, 0.12693304, 0.19039955, 0.25386607,\n",
       "       0.31733259, 0.38079911, 0.44426563, 0.50773215, 0.57119866,\n",
       "       0.63466518, 0.6981317 , 0.76159822, 0.82506474, 0.88853126,\n",
       "       0.95199777, 1.01546429, 1.07893081, 1.14239733, 1.20586385,\n",
       "       1.26933037, 1.33279688, 1.3962634 , 1.45972992, 1.52319644,\n",
       "       1.58666296, 1.65012947, 1.71359599, 1.77706251, 1.84052903,\n",
       "       1.90399555, 1.96746207, 2.03092858, 2.0943951 , 2.15786162,\n",
       "       2.22132814, 2.28479466, 2.34826118, 2.41172769, 2.47519421,\n",
       "       2.53866073, 2.60212725, 2.66559377, 2.72906028, 2.7925268 ,\n",
       "       2.85599332, 2.91945984, 2.98292636, 3.04639288, 3.10985939,\n",
       "       3.17332591, 3.23679243, 3.30025895, 3.36372547, 3.42719199,\n",
       "       3.4906585 , 3.55412502, 3.61759154, 3.68105806, 3.74452458,\n",
       "       3.8079911 , 3.87145761, 3.93492413, 3.99839065, 4.06185717,\n",
       "       4.12532369, 4.1887902 , 4.25225672, 4.31572324, 4.37918976,\n",
       "       4.44265628, 4.5061228 , 4.56958931, 4.63305583, 4.69652235,\n",
       "       4.75998887, 4.82345539, 4.88692191, 4.95038842, 5.01385494,\n",
       "       5.07732146, 5.14078798, 5.2042545 , 5.26772102, 5.33118753,\n",
       "       5.39465405, 5.45812057, 5.52158709, 5.58505361, 5.64852012,\n",
       "       5.71198664, 5.77545316, 5.83891968, 5.9023862 , 5.96585272,\n",
       "       6.02931923, 6.09278575, 6.15625227, 6.21971879, 6.28318531])"
      ]
     },
     "execution_count": 16,
     "metadata": {},
     "output_type": "execute_result"
    }
   ],
   "source": [
    "k = np.linspace(0, 2*pi, 100)\n",
    "k"
   ]
  },
  {
   "cell_type": "code",
   "execution_count": 19,
   "metadata": {},
   "outputs": [
    {
     "data": {
      "text/plain": [
       "-0.9589242746631385"
      ]
     },
     "execution_count": 19,
     "metadata": {},
     "output_type": "execute_result"
    }
   ],
   "source": [
    "l = np.sin(5)\n",
    "l"
   ]
  },
  {
   "cell_type": "code",
   "execution_count": 20,
   "metadata": {},
   "outputs": [
    {
     "data": {
      "text/plain": [
       "array([         0, 1075052544])"
      ]
     },
     "execution_count": 20,
     "metadata": {},
     "output_type": "execute_result"
    }
   ],
   "source": [
    "np.empty_like((4, 6))"
   ]
  },
  {
   "cell_type": "code",
   "execution_count": 21,
   "metadata": {},
   "outputs": [
    {
     "data": {
      "text/plain": [
       "array([ 0, 27,  4, 32, 21, 30])"
      ]
     },
     "execution_count": 21,
     "metadata": {},
     "output_type": "execute_result"
    }
   ],
   "source": [
    "\n",
    "m = np.random.randint(50,size=6)\n",
    "m"
   ]
  },
  {
   "cell_type": "code",
   "execution_count": 22,
   "metadata": {},
   "outputs": [
    {
     "data": {
      "text/plain": [
       "array([ -1,   0,  -1,   0,   1,   2,   3,   2,   3,   2,   3,   4,   5,\n",
       "         4,   3,   2,   1,   2,   3,   4,   3,   2,   3,   2,   1,   0,\n",
       "        -1,  -2,  -3,  -2,  -1,   0,  -1,  -2,  -3,  -4,  -5,  -6,  -5,\n",
       "        -4,  -3,  -2,  -1,   0,  -1,   0,  -1,   0,   1,   2,   3,   2,\n",
       "         3,   4,   3,   4,   3,   2,   3,   4,   3,   4,   3,   2,   1,\n",
       "         0,  -1,   0,   1,   2,   3,   4,   3,   2,   1,   2,   3,   4,\n",
       "         3,   2,   1,   0,  -1,  -2,  -1,   0,  -1,  -2,  -3,  -2,  -3,\n",
       "        -2,  -3,  -4,  -3,  -4,  -3,  -4,  -5,  -6,  -5,  -6,  -5,  -4,\n",
       "        -5,  -4,  -5,  -4,  -5,  -6,  -5,  -4,  -3,  -4,  -3,  -2,  -3,\n",
       "        -4,  -5,  -6,  -5,  -4,  -5,  -4,  -5,  -4,  -3,  -4,  -5,  -4,\n",
       "        -5,  -4,  -5,  -4,  -3,  -4,  -3,  -4,  -5,  -6,  -5,  -6,  -7,\n",
       "        -6,  -7,  -8,  -9,  -8,  -7,  -8,  -7,  -6,  -5,  -4,  -3,  -4,\n",
       "        -3,  -4,  -3,  -4,  -5,  -4,  -5,  -6,  -7,  -8,  -9, -10, -11,\n",
       "       -10, -11, -12, -11, -12, -11, -12, -13, -12, -11, -10,  -9,  -8,\n",
       "        -9, -10,  -9,  -8,  -9, -10, -11, -10, -11, -12, -11, -12, -13,\n",
       "       -12, -13, -12, -13, -12, -11, -12, -13, -14, -15, -14, -13, -14,\n",
       "       -13, -14, -15, -16, -17, -18, -17, -16, -17, -16, -15, -16, -17,\n",
       "       -16, -17, -16, -15, -14, -15, -14, -13, -14, -15, -16, -17, -18,\n",
       "       -17, -16, -17, -18, -19, -18, -19, -18, -17, -16, -17, -16, -17,\n",
       "       -16, -17, -16, -15, -16, -15, -16, -17, -16, -17, -18, -19, -18,\n",
       "       -17, -16, -15, -14, -15, -14, -15, -14, -13, -14, -13, -14, -13,\n",
       "       -14, -15, -14, -13, -12, -13, -12, -11, -10, -11, -10, -11, -12,\n",
       "       -11, -12, -11, -12, -11, -10, -11, -10,  -9, -10, -11, -12, -13,\n",
       "       -12, -13, -14, -13, -12, -11, -12, -11, -12, -11, -10,  -9,  -8,\n",
       "        -7,  -6,  -7,  -6,  -7,  -8,  -7,  -6,  -7,  -8,  -9, -10, -11,\n",
       "       -10,  -9,  -8,  -9,  -8,  -7,  -6,  -5,  -4,  -3,  -2,  -3,  -2,\n",
       "        -3,  -2,  -1,  -2,  -1,  -2,  -1,  -2,  -1,  -2,  -3,  -2,  -1,\n",
       "        -2,  -1,   0,  -1,   0,  -1,   0,   1,   0,   1,   2,   3,   4,\n",
       "         3,   2,   3,   4,   5,   4,   3,   2,   3,   4,   3,   4,   5,\n",
       "         6,   5,   6,   5,   4,   3,   2,   3,   4,   5,   4,   5,   6,\n",
       "         5,   4,   5,   4,   3,   2,   1,   0,  -1,   0,   1,   0,  -1,\n",
       "         0,  -1,  -2,  -1,   0,   1,   0,   1,   2,   1,   0,   1,   0,\n",
       "        -1,  -2,  -1,   0,   1,   2,   1,   0,  -1,   0,  -1,  -2,  -3,\n",
       "        -2,  -1,   0,   1,   2,   3,   2,   1,   0,  -1,  -2,  -3,  -4,\n",
       "        -3,  -2,  -3,  -4,  -3,  -4,  -3,  -4,  -5,  -6,  -7,  -6,  -7,\n",
       "        -6,  -7,  -8,  -9, -10,  -9, -10, -11, -10,  -9, -10, -11, -12,\n",
       "       -13, -12, -11, -12, -11, -12, -13, -12, -13, -12, -11, -10, -11,\n",
       "       -12, -11, -10, -11, -10, -11, -12, -11, -12, -13, -12, -11, -12,\n",
       "       -13, -14, -15, -14, -15, -16, -15, -16, -15, -14, -13, -12, -13,\n",
       "       -14, -15, -16, -17, -18, -19, -18, -19, -20, -19, -18, -19, -20,\n",
       "       -19, -18, -19, -20, -21, -20, -19, -18, -17, -16, -17, -18, -19,\n",
       "       -20, -21, -22, -23, -22, -23, -22, -21, -22, -21, -20, -19, -20,\n",
       "       -19, -20, -19, -18, -19, -20, -21, -22, -23, -24, -23, -22, -23,\n",
       "       -22, -23, -24, -25, -24, -23, -22, -21, -20, -19, -18, -19, -18,\n",
       "       -17, -18, -17, -16, -15, -14, -15, -16, -15, -14, -13, -12, -13,\n",
       "       -12, -13, -14, -15, -16, -15, -16, -15, -16, -17, -18, -17, -16,\n",
       "       -15, -14, -13, -12, -11, -10,  -9, -10,  -9, -10, -11, -10,  -9,\n",
       "       -10, -11, -10, -11, -12, -11, -12, -11, -12, -13, -12, -13, -12,\n",
       "       -11, -10, -11, -10,  -9, -10,  -9, -10, -11, -10,  -9, -10,  -9,\n",
       "       -10,  -9,  -8,  -9, -10, -11, -10, -11, -10,  -9, -10,  -9,  -8,\n",
       "        -7,  -8,  -7,  -6,  -7,  -6,  -5,  -6,  -5,  -4,  -3,  -2,  -1,\n",
       "        -2,  -3,  -2,  -1,  -2,  -1,  -2,  -1,  -2,  -1,   0,  -1,   0,\n",
       "         1,   2,   3,   2,   1,   2,   1,   0,   1,   2,   1,   0,  -1,\n",
       "         0,   1,   0,  -1,   0,  -1,  -2,  -1,   0,   1,   0,  -1,   0,\n",
       "         1,   0,   1,   0,  -1,  -2,  -3,  -4,  -3,  -4,  -5,  -4,  -3,\n",
       "        -4,  -3,  -4,  -5,  -6,  -5,  -4,  -3,  -2,  -1,   0,   1,   2,\n",
       "         3,   4,   3,   2,   1,   2,   1,   2,   1,   2,   3,   2,   3,\n",
       "         4,   3,   4,   3,   2,   1,   0,  -1,   0,  -1,  -2,  -1,  -2,\n",
       "        -3,  -2,  -3,  -4,  -5,  -4,  -3,  -2,  -1,  -2,  -1,  -2,  -1,\n",
       "         0,  -1,   0,  -1,   0,  -1,  -2,  -3,  -4,  -3,  -2,  -3,  -4,\n",
       "        -5,  -4,  -3,  -4,  -3,  -2,  -3,  -4,  -5,  -4,  -3,  -4,  -3,\n",
       "        -4,  -3,  -4,  -5,  -4,  -3,  -4,  -5,  -6,  -7,  -8,  -7,  -8,\n",
       "        -7,  -6,  -7,  -8,  -7,  -8,  -9, -10,  -9,  -8,  -9,  -8,  -7,\n",
       "        -6,  -7,  -8,  -9,  -8,  -9, -10, -11, -10,  -9,  -8,  -9, -10,\n",
       "       -11, -10,  -9, -10,  -9,  -8,  -7,  -6,  -7,  -6,  -7,  -8,  -9,\n",
       "        -8,  -7,  -6,  -5,  -4,  -5,  -4,  -3,  -2,  -1,   0,  -1,  -2,\n",
       "        -3,  -2,  -3,  -4,  -5,  -4,  -5,  -6,  -7,  -8,  -7,  -6,  -5,\n",
       "        -4,  -5,  -4,  -3,  -2,  -1,  -2,  -3,  -2,  -1,  -2,  -3,  -2,\n",
       "        -1,   0,   1,   0,   1,   2,   1,   2,   1,   0,   1,   0,  -1,\n",
       "        -2,  -3,  -4,  -5,  -6,  -7,  -8,  -9, -10,  -9,  -8,  -9, -10,\n",
       "       -11, -10,  -9, -10,  -9,  -8,  -9,  -8,  -7,  -8,  -7,  -8,  -7,\n",
       "        -8,  -9,  -8,  -7,  -8,  -9,  -8,  -9,  -8,  -7,  -8,  -7,  -6,\n",
       "        -5,  -6,  -5,  -6,  -7,  -8,  -7,  -8,  -9,  -8,  -9, -10, -11,\n",
       "       -12, -13, -12, -13, -14, -15, -14, -13, -14, -15, -16, -17, -16,\n",
       "       -17, -16, -15, -16, -15, -14, -13, -12, -11, -12, -11, -10,  -9,\n",
       "       -10,  -9,  -8,  -9,  -8,  -7,  -8,  -9,  -8,  -7,  -8,  -9, -10,\n",
       "       -11, -10,  -9,  -8,  -9, -10, -11, -10, -11, -12, -11, -12],\n",
       "      dtype=int32)"
      ]
     },
     "execution_count": 22,
     "metadata": {},
     "output_type": "execute_result"
    }
   ],
   "source": [
    "nsteps = 1000\n",
    "draws = np.random.randint(0,2,size=nsteps)\n",
    "steps = np.where(draws > 0,1,-1)\n",
    "walk = steps.cumsum()\n",
    "\n",
    "walk\n"
   ]
  },
  {
   "cell_type": "code",
   "execution_count": 23,
   "metadata": {},
   "outputs": [
    {
     "data": {
      "text/plain": [
       "dtype('int32')"
      ]
     },
     "execution_count": 23,
     "metadata": {},
     "output_type": "execute_result"
    }
   ],
   "source": [
    "array4 = np.array([1, 2, 3, 4, 5])\n",
    "array4.dtype"
   ]
  },
  {
   "cell_type": "code",
   "execution_count": 24,
   "metadata": {},
   "outputs": [
    {
     "data": {
      "text/plain": [
       "array([[3, 3, 3],\n",
       "       [3, 3, 3]])"
      ]
     },
     "execution_count": 24,
     "metadata": {},
     "output_type": "execute_result"
    }
   ],
   "source": [
    "rg = np.random.default_rng(1)\n",
    "\n",
    "a = np.ones((2, 3), dtype=int)\n",
    "b = rg.random((2, 3))\n",
    "\n",
    "a *= 3\n",
    "a"
   ]
  },
  {
   "cell_type": "code",
   "execution_count": 25,
   "metadata": {},
   "outputs": [
    {
     "data": {
      "text/plain": [
       "array([[3.51182162, 3.9504637 , 3.14415961],\n",
       "       [3.94864945, 3.31183145, 3.42332645]])"
      ]
     },
     "execution_count": 25,
     "metadata": {},
     "output_type": "execute_result"
    }
   ],
   "source": [
    "b += a\n",
    "\n",
    "b"
   ]
  },
  {
   "cell_type": "code",
   "execution_count": 26,
   "metadata": {},
   "outputs": [
    {
     "data": {
      "text/plain": [
       "'float64'"
      ]
     },
     "execution_count": 26,
     "metadata": {},
     "output_type": "execute_result"
    }
   ],
   "source": [
    "b = np.linspace(0, pi, 3)\n",
    "\n",
    "b.dtype.name\n"
   ]
  },
  {
   "cell_type": "code",
   "execution_count": 28,
   "metadata": {},
   "outputs": [
    {
     "data": {
      "text/plain": [
       "array([[3.        , 4.57079633, 6.14159265],\n",
       "       [3.        , 4.57079633, 6.14159265]])"
      ]
     },
     "execution_count": 28,
     "metadata": {},
     "output_type": "execute_result"
    }
   ],
   "source": [
    "c = a+b\n",
    "\n",
    "c"
   ]
  },
  {
   "cell_type": "code",
   "execution_count": 29,
   "metadata": {},
   "outputs": [
    {
     "data": {
      "text/plain": [
       "array([[-0.9899925 +0.14112001j, -0.14112001-0.9899925j ,\n",
       "         0.9899925 -0.14112001j],\n",
       "       [-0.9899925 +0.14112001j, -0.14112001-0.9899925j ,\n",
       "         0.9899925 -0.14112001j]])"
      ]
     },
     "execution_count": 29,
     "metadata": {},
     "output_type": "execute_result"
    }
   ],
   "source": [
    "d = np.exp(c*1j)\n",
    "\n",
    "d"
   ]
  },
  {
   "cell_type": "code",
   "execution_count": 30,
   "metadata": {},
   "outputs": [
    {
     "data": {
      "text/plain": [
       "'complex128'"
      ]
     },
     "execution_count": 30,
     "metadata": {},
     "output_type": "execute_result"
    }
   ],
   "source": [
    "d.dtype.name"
   ]
  },
  {
   "cell_type": "code",
   "execution_count": 31,
   "metadata": {},
   "outputs": [
    {
     "data": {
      "text/plain": [
       "array([[0.82770259, 0.40919914, 0.54959369],\n",
       "       [0.02755911, 0.75351311, 0.53814331]])"
      ]
     },
     "execution_count": 31,
     "metadata": {},
     "output_type": "execute_result"
    }
   ],
   "source": [
    "a = rg.random((2, 3))\n",
    "a"
   ]
  },
  {
   "cell_type": "code",
   "execution_count": 32,
   "metadata": {},
   "outputs": [
    {
     "data": {
      "text/plain": [
       "3.1057109529998157"
      ]
     },
     "execution_count": 32,
     "metadata": {},
     "output_type": "execute_result"
    }
   ],
   "source": [
    "a.sum()"
   ]
  },
  {
   "cell_type": "code",
   "execution_count": 34,
   "metadata": {},
   "outputs": [
    {
     "data": {
      "text/plain": [
       "0.027559113243068367"
      ]
     },
     "execution_count": 34,
     "metadata": {},
     "output_type": "execute_result"
    }
   ],
   "source": [
    "a.min()\n"
   ]
  },
  {
   "cell_type": "code",
   "execution_count": 35,
   "metadata": {},
   "outputs": [
    {
     "data": {
      "text/plain": [
       "0.8277025938204418"
      ]
     },
     "execution_count": 35,
     "metadata": {},
     "output_type": "execute_result"
    }
   ],
   "source": [
    "a.max()\n"
   ]
  },
  {
   "cell_type": "code",
   "execution_count": 36,
   "metadata": {},
   "outputs": [
    {
     "data": {
      "text/plain": [
       "array([[1, 2, 3],\n",
       "       [4, 5, 6],\n",
       "       [7, 8, 9]])"
      ]
     },
     "execution_count": 36,
     "metadata": {},
     "output_type": "execute_result"
    }
   ],
   "source": [
    "arry2d = np.array([[1, 2, 3],[4, 5, 6],[7, 8, 9]])\n",
    "arry2d\n"
   ]
  },
  {
   "cell_type": "code",
   "execution_count": 38,
   "metadata": {},
   "outputs": [
    {
     "name": "stdout",
     "output_type": "stream",
     "text": [
      "3\n"
     ]
    }
   ],
   "source": [
    "print(arry2d[0][2])\n"
   ]
  },
  {
   "cell_type": "code",
   "execution_count": 41,
   "metadata": {},
   "outputs": [
    {
     "data": {
      "text/plain": [
       "array([[[ 1,  2,  3],\n",
       "        [ 4,  5,  6]],\n",
       "\n",
       "       [[ 7,  8,  9],\n",
       "        [10, 11, 12]]])"
      ]
     },
     "execution_count": 41,
     "metadata": {},
     "output_type": "execute_result"
    }
   ],
   "source": [
    "arry3d = np.array([[[1, 2, 3], [4, 5, 6]], [[7, 8, 9], [10, 11, 12]]])\n",
    "arry3d\n"
   ]
  },
  {
   "cell_type": "code",
   "execution_count": 42,
   "metadata": {},
   "outputs": [
    {
     "data": {
      "text/plain": [
       "(2, 2, 3)"
      ]
     },
     "execution_count": 42,
     "metadata": {},
     "output_type": "execute_result"
    }
   ],
   "source": [
    "arry3d.shape\n"
   ]
  },
  {
   "cell_type": "code",
   "execution_count": 43,
   "metadata": {},
   "outputs": [
    {
     "data": {
      "text/plain": [
       "array([[0., 0., 0., 0.],\n",
       "       [1., 1., 1., 1.],\n",
       "       [2., 2., 2., 2.],\n",
       "       [3., 3., 3., 3.],\n",
       "       [4., 4., 4., 4.],\n",
       "       [5., 5., 5., 5.],\n",
       "       [6., 6., 6., 6.],\n",
       "       [7., 7., 7., 7.]])"
      ]
     },
     "execution_count": 43,
     "metadata": {},
     "output_type": "execute_result"
    }
   ],
   "source": [
    "arr = np.empty((8, 4))\n",
    "for i in range(8):\n",
    "    arr[i] = i\n",
    "\n",
    "arr\n"
   ]
  },
  {
   "cell_type": "code",
   "execution_count": 44,
   "metadata": {},
   "outputs": [
    {
     "name": "stdout",
     "output_type": "stream",
     "text": [
      "[42  2  3  4  5  6]\n",
      "[1 2 3 4 5 6]\n"
     ]
    }
   ],
   "source": [
    "a = np.array([1, 2, 3, 4, 5, 6])\n",
    "x = a.copy()\n",
    "a[0] = 42\n",
    "\n",
    "print(a)\n",
    "print(x)"
   ]
  },
  {
   "cell_type": "code",
   "execution_count": 45,
   "metadata": {},
   "outputs": [
    {
     "name": "stdout",
     "output_type": "stream",
     "text": [
      "[[ 1  2  3]\n",
      " [ 4  5  6]\n",
      " [ 7  8  9]\n",
      " [10 11 12]]\n"
     ]
    }
   ],
   "source": [
    "a = np.array([1, 2, 3, 4, 5, 6, 7, 8, 9, 10, 11, 12])\n",
    "b = a.reshape(4, 3)\n",
    "\n",
    "print(b)"
   ]
  },
  {
   "cell_type": "code",
   "execution_count": 46,
   "metadata": {},
   "outputs": [
    {
     "name": "stdout",
     "output_type": "stream",
     "text": [
      "1\n",
      "2\n",
      "3\n",
      "4\n",
      "5\n",
      "6\n",
      "7\n",
      "8\n"
     ]
    }
   ],
   "source": [
    "a = np.array([[[1, 2], [3, 4], [5, 6], [7, 8]]])\n",
    "\n",
    "for x in np.nditer(a):\n",
    "    print(x)"
   ]
  },
  {
   "cell_type": "code",
   "execution_count": 47,
   "metadata": {},
   "outputs": [
    {
     "name": "stdout",
     "output_type": "stream",
     "text": [
      "['My name' 'is :']\n"
     ]
    }
   ],
   "source": [
    "a1 = np.array([\"My name\"])\n",
    "a2 = np.array([\"is :\"])\n",
    "\n",
    "b = np.concatenate((a1, a2))\n",
    "print(b)"
   ]
  },
  {
   "cell_type": "code",
   "execution_count": 49,
   "metadata": {},
   "outputs": [
    {
     "name": "stdout",
     "output_type": "stream",
     "text": [
      "[20 22]\n"
     ]
    }
   ],
   "source": [
    "a = np.array([20, 21, 22, 23])\n",
    "b = [True, False, True, False]\n",
    "\n",
    "x = a[b]\n",
    "print(x)"
   ]
  },
  {
   "cell_type": "code",
   "execution_count": 50,
   "metadata": {},
   "outputs": [
    {
     "data": {
      "text/plain": [
       "array(['Bob', 'Joe', 'Will', 'Bob', 'Will', 'Joe', 'Joe'], dtype='<U4')"
      ]
     },
     "execution_count": 50,
     "metadata": {},
     "output_type": "execute_result"
    }
   ],
   "source": [
    "names = np.array(['Bob', 'Joe', 'Will', 'Bob', 'Will', 'Joe', 'Joe'])\n",
    "names"
   ]
  },
  {
   "cell_type": "code",
   "execution_count": null,
   "metadata": {},
   "outputs": [],
   "source": []
  }
 ],
 "metadata": {
  "kernelspec": {
   "display_name": "Python 3",
   "language": "python",
   "name": "python3"
  },
  "language_info": {
   "codemirror_mode": {
    "name": "ipython",
    "version": 3
   },
   "file_extension": ".py",
   "mimetype": "text/x-python",
   "name": "python",
   "nbconvert_exporter": "python",
   "pygments_lexer": "ipython3",
   "version": "3.8.5"
  }
 },
 "nbformat": 4,
 "nbformat_minor": 4
}
